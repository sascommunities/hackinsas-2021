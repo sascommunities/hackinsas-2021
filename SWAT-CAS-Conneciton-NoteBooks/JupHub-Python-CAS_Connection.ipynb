{
 "cells": [
  {
   "cell_type": "markdown",
   "metadata": {},
   "source": [
    "## Sample code for connecting to CAS using the SWAT package"
   ]
  },
  {
   "cell_type": "code",
   "execution_count": 1,
   "metadata": {},
   "outputs": [],
   "source": [
    "import os\n",
    "import swat"
   ]
  },
  {
   "cell_type": "markdown",
   "metadata": {},
   "source": [
    "There are two ways of connecting to CAS: \n",
    "\n",
    "* using REST API calls or \n",
    "* using a SAS-native binary protocol.\n",
    "\n",
    "The binary protocol is faster. *Note*: we're using the internal Kubernetes service name of the CAS pod for connecting. We can do that because both ends (CAS and Jupyter) are running as pods inside the Kubernetes cluster. Thus we can use a \"shortcut\" and our communication stays inside the cluster. As full TLS is enabled you need to upload the ca_cert.pem and set it to an environment variable CAS_CLIENT_SSL_CA_LIST."
   ]
  },
  {
   "cell_type": "code",
   "execution_count": 2,
   "metadata": {},
   "outputs": [],
   "source": [
    "os.environ['CAS_CLIENT_SSL_CA_LIST'] = 'ca_cert.pem'\n",
    "sess=swat.CAS('sas-cas-server-default-client', 5570, 'viya_admin', '<your password>')"
   ]
  },
  {
   "cell_type": "code",
   "execution_count": 3,
   "metadata": {},
   "outputs": [
    {
     "name": "stdout",
     "output_type": "stream",
     "text": [
      "NOTE: Grid node action status report: 1 nodes, 8 total actions executed.\n"
     ]
    },
    {
     "data": {
      "text/html": [
       "<div class=\"cas-results-key\"><b>&#167; About</b></div>\n",
       "<div class=\"cas-results-body\">\n",
       "<div>{'CAS': 'Cloud Analytic Services', 'Version': '4.00', 'VersionLong': 'V.04.00M0P01142021', 'Viya Release': '20210216.1613465530894', 'Viya Version': 'Stable 2020.1.2', 'Copyright': 'Copyright © 2014-2020 SAS Institute Inc. All Rights Reserved.', 'ServerTime': '2021-02-23T06:18:43Z', 'System': {'Hostname': 'controller.sas-cas-server-default.hackinsas-neu000sas.svc.cluster.local', 'OS Name': 'Linux', 'OS Family': 'LIN X64', 'OS Release': '5.4.0-1039-azure', 'OS Version': '#41~18.04.1-Ubuntu SMP Mon Jan 18 14:00:01 UTC 2021', 'Model Number': 'x86_64', 'Linux Distribution': 'Red Hat Enterprise Linux release 8.2 (Ootpa)'}, 'license': {'site': 'SAS INSTITUTE INC - GLOBAL HACKATHON 2021', 'siteNum': 70281021, 'expires': '30Apr2021:00:00:00', 'gracePeriod': 45, 'warningPeriod': 45}, 'CASHostAccountRequired': 'OPTIONAL'}</div>\n",
       "</div>\n",
       "<div class=\"cas-results-key\"><hr/><b>&#167; server</b></div>\n",
       "<div class=\"cas-results-body\">\n",
       "<div>\n",
       "<style scoped>\n",
       "    .dataframe tbody tr th:only-of-type {\n",
       "        vertical-align: middle;\n",
       "    }\n",
       "\n",
       "    .dataframe tbody tr th {\n",
       "        vertical-align: top;\n",
       "    }\n",
       "\n",
       "    .dataframe thead th {\n",
       "        text-align: right;\n",
       "    }\n",
       "</style>\n",
       "<table border=\"1\" class=\"dataframe\"><caption>Server Status</caption>\n",
       "  <thead>\n",
       "    <tr style=\"text-align: right;\">\n",
       "      <th title=\"\"></th>\n",
       "      <th title=\"Node Count\">nodes</th>\n",
       "      <th title=\"Total Actions\">actions</th>\n",
       "    </tr>\n",
       "  </thead>\n",
       "  <tbody>\n",
       "    <tr>\n",
       "      <td>0</td>\n",
       "      <td>1</td>\n",
       "      <td>8</td>\n",
       "    </tr>\n",
       "  </tbody>\n",
       "</table>\n",
       "</div>\n",
       "</div>\n",
       "<div class=\"cas-results-key\"><hr/><b>&#167; nodestatus</b></div>\n",
       "<div class=\"cas-results-body\">\n",
       "<div>\n",
       "<style scoped>\n",
       "    .dataframe tbody tr th:only-of-type {\n",
       "        vertical-align: middle;\n",
       "    }\n",
       "\n",
       "    .dataframe tbody tr th {\n",
       "        vertical-align: top;\n",
       "    }\n",
       "\n",
       "    .dataframe thead th {\n",
       "        text-align: right;\n",
       "    }\n",
       "</style>\n",
       "<table border=\"1\" class=\"dataframe\"><caption>Node Status</caption>\n",
       "  <thead>\n",
       "    <tr style=\"text-align: right;\">\n",
       "      <th title=\"\"></th>\n",
       "      <th title=\"Node Name\">name</th>\n",
       "      <th title=\"Role\">role</th>\n",
       "      <th title=\"Uptime (Sec)\">uptime</th>\n",
       "      <th title=\"Running\">running</th>\n",
       "      <th title=\"Stalled\">stalled</th>\n",
       "    </tr>\n",
       "  </thead>\n",
       "  <tbody>\n",
       "    <tr>\n",
       "      <td>0</td>\n",
       "      <td>controller.sas-cas-server-default.hackinsas-ne...</td>\n",
       "      <td>controller</td>\n",
       "      <td>1.089</td>\n",
       "      <td>0</td>\n",
       "      <td>0</td>\n",
       "    </tr>\n",
       "  </tbody>\n",
       "</table>\n",
       "</div>\n",
       "</div>\n",
       "<div class=\"cas-output-area\"></div>\n",
       "<p class=\"cas-results-performance\"><small><span class=\"cas-elapsed\">elapsed 0.000702s</span> &#183; <span class=\"cas-user\">user 0.000676s</span> &#183; <span class=\"cas-memory\">mem 0.323MB</span></small></p>"
      ],
      "text/plain": [
       "[About]\n",
       "\n",
       " {'CAS': 'Cloud Analytic Services',\n",
       "  'Version': '4.00',\n",
       "  'VersionLong': 'V.04.00M0P01142021',\n",
       "  'Viya Release': '20210216.1613465530894',\n",
       "  'Viya Version': 'Stable 2020.1.2',\n",
       "  'Copyright': 'Copyright © 2014-2020 SAS Institute Inc. All Rights Reserved.',\n",
       "  'ServerTime': '2021-02-23T06:18:43Z',\n",
       "  'System': {'Hostname': 'controller.sas-cas-server-default.hackinsas-neu000sas.svc.cluster.local',\n",
       "   'OS Name': 'Linux',\n",
       "   'OS Family': 'LIN X64',\n",
       "   'OS Release': '5.4.0-1039-azure',\n",
       "   'OS Version': '#41~18.04.1-Ubuntu SMP Mon Jan 18 14:00:01 UTC 2021',\n",
       "   'Model Number': 'x86_64',\n",
       "   'Linux Distribution': 'Red Hat Enterprise Linux release 8.2 (Ootpa)'},\n",
       "  'license': {'site': 'SAS INSTITUTE INC - GLOBAL HACKATHON 2021',\n",
       "   'siteNum': 70281021,\n",
       "   'expires': '30Apr2021:00:00:00',\n",
       "   'gracePeriod': 45,\n",
       "   'warningPeriod': 45},\n",
       "  'CASHostAccountRequired': 'OPTIONAL'}\n",
       "\n",
       "[server]\n",
       "\n",
       " Server Status\n",
       " \n",
       "    nodes  actions\n",
       " 0      1        8\n",
       "\n",
       "[nodestatus]\n",
       "\n",
       " Node Status\n",
       " \n",
       "                                                 name        role  uptime  running  stalled\n",
       " 0  controller.sas-cas-server-default.hackinsas-ne...  controller   1.089        0        0\n",
       "\n",
       "+ Elapsed: 0.000702s, user: 0.000676s, mem: 0.323mb"
      ]
     },
     "execution_count": 3,
     "metadata": {},
     "output_type": "execute_result"
    }
   ],
   "source": [
    "sess.serverStatus()"
   ]
  },
  {
   "cell_type": "code",
   "execution_count": 4,
   "metadata": {},
   "outputs": [],
   "source": [
    "sess.terminate()"
   ]
  },
  {
   "cell_type": "code",
   "execution_count": null,
   "metadata": {},
   "outputs": [],
   "source": []
  }
 ],
 "metadata": {
  "kernelspec": {
   "display_name": "Python 3",
   "language": "python",
   "name": "python3"
  },
  "language_info": {
   "codemirror_mode": {
    "name": "ipython",
    "version": 3
   },
   "file_extension": ".py",
   "mimetype": "text/x-python",
   "name": "python",
   "nbconvert_exporter": "python",
   "pygments_lexer": "ipython3",
   "version": "3.8.6"
  }
 },
 "nbformat": 4,
 "nbformat_minor": 4
}
