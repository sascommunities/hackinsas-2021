{
 "cells": [
  {
   "cell_type": "markdown",
   "id": "knowing-secondary",
   "metadata": {},
   "source": [
    "## This example shows how to use the SWAT Package of SAS Viya for R."
   ]
  },
  {
   "cell_type": "code",
   "execution_count": 2,
   "id": "encouraging-workstation",
   "metadata": {},
   "outputs": [
    {
     "name": "stderr",
     "output_type": "stream",
     "text": [
      "Updating HTML index of packages in '.Library'\n",
      "\n",
      "Making 'packages.html' ...\n",
      " done\n",
      "\n"
     ]
    }
   ],
   "source": [
    "install.packages('dplyr')"
   ]
  },
  {
   "cell_type": "code",
   "execution_count": 3,
   "id": "loose-envelope",
   "metadata": {},
   "outputs": [
    {
     "name": "stderr",
     "output_type": "stream",
     "text": [
      "Updating HTML index of packages in '.Library'\n",
      "\n",
      "Making 'packages.html' ...\n",
      " done\n",
      "\n"
     ]
    }
   ],
   "source": [
    "install.packages('httr')"
   ]
  },
  {
   "cell_type": "code",
   "execution_count": 4,
   "id": "missing-partner",
   "metadata": {},
   "outputs": [
    {
     "name": "stderr",
     "output_type": "stream",
     "text": [
      "Updating HTML index of packages in '.Library'\n",
      "\n",
      "Making 'packages.html' ...\n",
      " done\n",
      "\n"
     ]
    }
   ],
   "source": [
    "install.packages('jsonlite')"
   ]
  },
  {
   "cell_type": "code",
   "execution_count": 5,
   "id": "retired-socket",
   "metadata": {},
   "outputs": [],
   "source": [
    "install.packages('https://github.com/sassoftware/R-swat/releases/download/v1.6.1-snapshot/R-swat-1.6.0.9000+vb20060-linux-64.tar.gz',\n",
    "                   repos=NULL, type='file')"
   ]
  },
  {
   "cell_type": "code",
   "execution_count": 6,
   "id": "smoking-construction",
   "metadata": {},
   "outputs": [
    {
     "name": "stderr",
     "output_type": "stream",
     "text": [
      "SWAT 1.6.0.9000\n",
      "\n"
     ]
    }
   ],
   "source": [
    "library(swat)"
   ]
  },
  {
   "cell_type": "code",
   "execution_count": 7,
   "id": "scenic-place",
   "metadata": {},
   "outputs": [
    {
     "name": "stderr",
     "output_type": "stream",
     "text": [
      "NOTE: Connecting to CAS and generating CAS action functions for loaded\n",
      "      action sets...\n",
      "\n",
      "NOTE: To generate the functions with signatures (for tab completion), set \n",
      "      options(cas.gen.function.sig=TRUE).\n",
      "\n"
     ]
    }
   ],
   "source": [
    "Sys.setenv(CAS_CLIENT_SSL_CA_LIST = \"ca_cert.pem\")\n",
    "conn <- swat::CAS('sas-cas-server-default-client', 5570, username='viya_admin', password='oem1pe8Hoh0ahL')\n",
    "actionsets <- c('sampling', 'fedsql', 'decisionTree', 'neuralNet', 'percentile')"
   ]
  },
  {
   "cell_type": "code",
   "execution_count": 8,
   "id": "curious-pound",
   "metadata": {},
   "outputs": [
    {
     "data": {
      "text/html": [
       "<ol>\n",
       "</ol>\n"
      ],
      "text/latex": [
       "\\begin{enumerate}\n",
       "\\end{enumerate}\n"
      ],
      "text/markdown": [
       "\n",
       "\n"
      ],
      "text/plain": [
       "list()"
      ]
     },
     "metadata": {},
     "output_type": "display_data"
    }
   ],
   "source": [
    "cas.session.endSession(conn)"
   ]
  },
  {
   "cell_type": "code",
   "execution_count": null,
   "id": "complimentary-admission",
   "metadata": {},
   "outputs": [],
   "source": []
  }
 ],
 "metadata": {
  "kernelspec": {
   "display_name": "R",
   "language": "R",
   "name": "ir"
  },
  "language_info": {
   "codemirror_mode": "r",
   "file_extension": ".r",
   "mimetype": "text/x-r-source",
   "name": "R",
   "pygments_lexer": "r",
   "version": "4.0.3"
  }
 },
 "nbformat": 4,
 "nbformat_minor": 5
}
