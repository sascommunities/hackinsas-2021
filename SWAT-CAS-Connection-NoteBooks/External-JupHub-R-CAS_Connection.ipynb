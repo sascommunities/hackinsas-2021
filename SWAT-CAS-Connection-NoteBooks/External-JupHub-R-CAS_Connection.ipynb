{
 "cells": [
  {
   "cell_type": "markdown",
   "metadata": {},
   "source": [
    "## This example shows how to use the [R-SWAT Package](https://github.com/sassoftware/R-swat) of SAS Viya for an external R client.\n",
    "### The first four commands are one-time installs of required pacakages\n",
    "### The fifth command is a one-time ca_cert environment variable creation and assumes you have the [ca_cert.pem](https://github.com/sascommunities/hackinsas-2021/blob/main/CA-certificates/ca_cert.pem) file saved locally"
   ]
  },
  {
   "cell_type": "code",
   "execution_count": null,
   "metadata": {},
   "outputs": [],
   "source": [
    "#One time install of dplyr package\n",
    "install.packages('dplyr')"
   ]
  },
  {
   "cell_type": "code",
   "execution_count": null,
   "metadata": {},
   "outputs": [],
   "source": [
    "# One time install of httr package\n",
    "install.packages('httr')"
   ]
  },
  {
   "cell_type": "code",
   "execution_count": null,
   "metadata": {},
   "outputs": [],
   "source": [
    "#One time install of jsonlite package\n",
    "install.packages('jsonlite')"
   ]
  },
  {
   "cell_type": "code",
   "execution_count": null,
   "metadata": {},
   "outputs": [],
   "source": [
    "#One time install of r-swat package\n",
    "install.packages('https://github.com/sassoftware/R-swat/releases/download/v1.6.1-snapshot/R-swat-1.6.0.9000+vb20060-linux-64.tar.gz',\n",
    "                   repos=NULL, type='file')"
   ]
  },
  {
   "cell_type": "code",
   "execution_count": null,
   "metadata": {},
   "outputs": [],
   "source": [
    "#One time creation of ca_cert environment variable\n",
    "Sys.setenv(CAS_CLIENT_SSL_CA_LIST = \"ca_cert.pem\")"
   ]
  },
  {
   "cell_type": "markdown",
   "metadata": {},
   "source": [
    "## Install swat library and establish a CAS connection"
   ]
  },
  {
   "cell_type": "code",
   "execution_count": null,
   "metadata": {},
   "outputs": [],
   "source": [
    "# Import r-swat library\n",
    "library(swat)"
   ]
  },
  {
   "cell_type": "code",
   "execution_count": null,
   "metadata": {},
   "outputs": [],
   "source": [
    "#Establish a connection to CAS (need to replace hostname, user, and password)\n",
    "conn <- swat::CAS('https://sasserver.sas.com/cas-shared-default-http',443, protocol='https', user='admin', password='password')"
   ]
  },
  {
   "cell_type": "code",
   "execution_count": null,
   "metadata": {},
   "outputs": [],
   "source": [
    "# Close CAS connection\n",
    "cas.session.endSession(conn)"
   ]
  },
  {
   "cell_type": "markdown",
   "metadata": {},
   "source": [
    "## The following commands are for demonstration purposes only\n",
    "### The load data step assumes you have downloaded the [property.csv](https://github.com/sascommunities/hackinsas-2021/blob/main/SWAT-CAS-Connection-NoteBooks/property.csv) file saved locally."
   ]
  },
  {
   "cell_type": "code",
   "execution_count": null,
   "metadata": {},
   "outputs": [],
   "source": [
    "#Load data from local directory to CAS\n",
    "citydata <- cas.read.csv(conn, \"property.csv\", sep=';')"
   ]
  },
  {
   "cell_type": "code",
   "execution_count": null,
   "metadata": {},
   "outputs": [],
   "source": [
    "#Find the mean for TotalSaleValue variable\n",
    "cas.mean(citydata$TotalSaleValue)"
   ]
  },
  {
   "cell_type": "code",
   "execution_count": null,
   "metadata": {},
   "outputs": [],
   "source": [
    "#Find the standard deviation for TotalSaleValue variable\n",
    "cas.sd(citydata$TotalSaleValue)"
   ]
  },
  {
   "cell_type": "code",
   "execution_count": null,
   "metadata": {},
   "outputs": [],
   "source": [
    "#List percentile boxplot values for TotalSaleValue variable\n",
    "cas.percentile.boxPlot(citydata$TotalSaleValue)"
   ]
  },
  {
   "cell_type": "code",
   "execution_count": null,
   "metadata": {},
   "outputs": [],
   "source": [
    "#End CAS session\n",
    "cas.session.endSession(conn)"
   ]
  }
 ],
 "metadata": {
  "kernelspec": {
   "display_name": "R",
   "language": "R",
   "name": "ir"
  },
  "language_info": {
   "codemirror_mode": "r",
   "file_extension": ".r",
   "mimetype": "text/x-r-source",
   "name": "R",
   "pygments_lexer": "r",
   "version": "3.6.1"
  }
 },
 "nbformat": 4,
 "nbformat_minor": 5
}
